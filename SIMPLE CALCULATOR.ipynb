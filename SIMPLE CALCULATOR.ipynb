{
 "cells": [
  {
   "cell_type": "code",
   "execution_count": null,
   "metadata": {},
   "outputs": [
    {
     "name": "stdout",
     "output_type": "stream",
     "text": [
      "enter ur choice: \n",
      "1.addition\n",
      "2.substraction\n",
      "3.multiplication\n",
      "4.division\n",
      "enter choice(1/2/3/4: 4\n",
      "enter 1st num: 3\n",
      "enter 2nd  num: 0\n",
      "divide by zero error\n",
      "enter choice(1/2/3/4: 1\n",
      "enter 1st num: 2\n",
      "enter 2nd  num: 3\n",
      "2.0 + 3.0 = 5.0\n",
      "enter choice(1/2/3/4: 2\n",
      "enter 1st num: 4\n",
      "enter 2nd  num: 3\n",
      "4.0 - 3.0 = 1.0\n",
      "enter choice(1/2/3/4: 3\n",
      "enter 1st num: 4\n",
      "enter 2nd  num: 5\n",
      "4.0 * 5.0 = 20.0\n"
     ]
    }
   ],
   "source": [
    "#simple calculator\n",
    "\n",
    "\n",
    "def add(x,y):\n",
    "    return x+y\n",
    "def subst(x,y):\n",
    "    return x-y\n",
    "def mul(x,y):\n",
    "    return x*y\n",
    "def div(x,y):\n",
    "    return x/y\n",
    "print(\"enter ur choice: \")\n",
    "print(\"1.addition\")\n",
    "print(\"2.substraction\")\n",
    "print(\"3.multiplication\")\n",
    "print(\"4.division\")\n",
    "while True:\n",
    "    choice= input(\"enter choice(1/2/3/4: \")\n",
    "    if choice in('1','2','3','4'):\n",
    "        num1=float(input(\"enter 1st num: \"))\n",
    "        num2=float(input(\"enter 2nd  num: \"))\n",
    "    if choice =='1':\n",
    "        print(num1,\"+\",num2,\"=\",add(num1,num2))\n",
    "    elif choice=='2':\n",
    "        print(num1,\"-\",num2,\"=\",subst(num1,num2))\n",
    "    elif choice =='3':\n",
    "        print(num1,\"*\",num2,\"=\",mul(num1,num2))\n",
    "    elif choice=='4':\n",
    "        \n",
    "        if num2==0:\n",
    "            print(\"divide by zero error\")\n",
    "        else:\n",
    "            print(num1,\"/\",num2,\"=\",div(num1,num2))\n",
    "    else:\n",
    "        print(\"invaild\")\n",
    "    "
   ]
  },
  {
   "cell_type": "code",
   "execution_count": null,
   "metadata": {
    "collapsed": true
   },
   "outputs": [],
   "source": []
  }
 ],
 "metadata": {
  "kernelspec": {
   "display_name": "Python 3",
   "language": "python",
   "name": "python3"
  },
  "language_info": {
   "codemirror_mode": {
    "name": "ipython",
    "version": 3
   },
   "file_extension": ".py",
   "mimetype": "text/x-python",
   "name": "python",
   "nbconvert_exporter": "python",
   "pygments_lexer": "ipython3",
   "version": "3.6.3"
  }
 },
 "nbformat": 4,
 "nbformat_minor": 2
}
