{
 "cells": [
  {
   "cell_type": "code",
   "execution_count": 2,
   "metadata": {},
   "outputs": [
    {
     "name": "stdout",
     "output_type": "stream",
     "text": [
      "   x1  x2\n",
      "0   1   1\n",
      "1   2   1\n",
      "2   2   3\n",
      "3   3   2\n",
      "4   4   3\n",
      "5   5   5\n",
      "[[1 1]\n",
      " [2 1]\n",
      " [2 3]\n",
      " [3 2]\n",
      " [4 3]\n",
      " [5 5]]\n",
      "[1 1 1 1 0 0]\n"
     ]
    },
    {
     "data": {
      "text/plain": [
       "<matplotlib.collections.PathCollection at 0x7feacc2e1e90>"
      ]
     },
     "execution_count": 2,
     "metadata": {},
     "output_type": "execute_result"
    },
    {
     "data": {
      "image/png": "[encoded data removed]",
      "text/plain": [
       "<Figure size 432x288 with 1 Axes>"
      ]
     },
     "metadata": {
      "needs_background": "light"
     },
     "output_type": "display_data"
    }
   ],
   "source": [
    "import pandas as pd\n",
    "a= pd.read_csv(\"jk.csv\")\n",
    "print(a)\n",
    "x=a.iloc[:,:].values\n",
    "print(x)\n",
    "\n",
    "#No training set \n",
    "from sklearn.cluster import KMeans\n",
    "kmeans=KMeans(init='k-means++',n_clusters=2,random_state=0).fit(x)\n",
    "p=kmeans.predict(x)\n",
    "print(p)\n",
    "\n",
    "#plotting graph\n",
    "import matplotlib.pyplot as plt\n",
    "colors=list(map(lambda x:'#3b4cc0' if x==1 else '#b204f8',p))\n",
    "plt.scatter(x[:,0],x[:,1],c=colors,marker='+',picker=True)"
   ]
  },
  {
   "cell_type": "code",
   "execution_count": null,
   "metadata": {},
   "outputs": [],
   "source": []
  }
 ],
 "metadata": {
  "kernelspec": {
   "display_name": "Python 3",
   "language": "python",
   "name": "python3"
  },
  "language_info": {
   "codemirror_mode": {
    "name": "ipython",
    "version": 3
   },
   "file_extension": ".py",
   "mimetype": "text/x-python",
   "name": "python",
   "nbconvert_exporter": "python",
   "pygments_lexer": "ipython3",
   "version": "3.7.11"
  }
 },
 "nbformat": 4,
 "nbformat_minor": 4
}
