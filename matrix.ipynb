{
 "cells": [
  {
   "cell_type": "code",
   "execution_count": 47,
   "metadata": {},
   "outputs": [
    {
     "name": "stdout",
     "output_type": "stream",
     "text": [
      "\n",
      "matix 1:\n",
      "\n",
      "\n",
      "------------------\n",
      "\n",
      "[[1 2 3]\n",
      " [3 4 5]\n",
      " [5 6 7]]\n",
      "\n",
      "matrix 2\n",
      "\n",
      "\n",
      "------------------\n",
      "\n",
      "[[3 4 5]\n",
      " [4 3 2]\n",
      " [5 6 4]]\n",
      "\n",
      "matrix1 * matrix 2\n",
      "\n",
      "\n",
      "------------------\n",
      "\n",
      "[[26 28 21]\n",
      " [50 54 43]\n",
      " [74 80 65]]\n",
      " \n",
      "transpose\n",
      "\n",
      "\n",
      "------------------\n",
      "\n",
      "[[26 50 74]\n",
      " [28 54 80]\n",
      " [21 43 65]]\n"
     ]
    }
   ],
   "source": [
    "#matrix multiplication\n",
    "import numpy as num\n",
    "a=num.array(([1,2,3],[3,4,5],[5,6,7]))\n",
    "b=num.array(([3,4,5],[4,3,2],[5,6,4]))\n",
    "print(\"\\nmatix 1:\\n\")\n",
    "print(\"\\n------------------\\n\")\n",
    "print(a)\n",
    "print(\"\\nmatrix 2\\n\")\n",
    "print(\"\\n------------------\\n\")\n",
    "print(b)\n",
    "print(\"\\nmatrix1 * matrix 2\\n\")\n",
    "print(\"\\n------------------\\n\")\n",
    "c=num.dot(a,b)\n",
    "print(c)\n",
    "print(\" \\ntranspose\\n\")\n",
    "print(\"\\n------------------\\n\")\n",
    "d=num.transpose(c)\n",
    "print(d)"
   ]
  },
  {
   "cell_type": "code",
   "execution_count": 24,
   "metadata": {},
   "outputs": [
    {
     "name": "stdout",
     "output_type": "stream",
     "text": [
      "[[1 2 3]\n",
      " [4 5 6]\n",
      " [7 8 9]]\n",
      "[[1 5 4]\n",
      " [3 2 7]\n",
      " [6 8 7]]\n",
      "[[ 25  33  39]\n",
      " [ 55  78  93]\n",
      " [ 85 123 147]]\n",
      "[[ 25  55  85]\n",
      " [ 33  78 123]\n",
      " [ 39  93 147]]\n"
     ]
    }
   ],
   "source": [
    "import numpy as num\n",
    "a=num.array([1,2,3,4,5,6,7,8,9])\n",
    "c=num.array([1,5,4,3,2,7,6,8,7])\n",
    "b=a.reshape(3,3)\n",
    "d=c.reshape(3,3)\n",
    "print(b)\n",
    "print(d)\n",
    "e=num.dot(b,d)\n",
    "print(e)\n",
    "f=num.transpose(e)\n",
    "print(f)"
   ]
  },
  {
   "cell_type": "code",
   "execution_count": 26,
   "metadata": {},
   "outputs": [
    {
     "name": "stdout",
     "output_type": "stream",
     "text": [
      "[0 1 2 3 4 5 6 7 8]\n"
     ]
    }
   ],
   "source": [
    "a=num.arange(9)\n",
    "\n",
    "print(a)"
   ]
  },
  {
   "cell_type": "code",
   "execution_count": 30,
   "metadata": {},
   "outputs": [
    {
     "name": "stdout",
     "output_type": "stream",
     "text": [
      "[[0 0]\n",
      " [0 0]]\n"
     ]
    }
   ],
   "source": [
    "#zero matrix\n",
    "a=num.zeros(([2,2]),dtype='i')\n",
    "print(a)"
   ]
  },
  {
   "cell_type": "code",
   "execution_count": 49,
   "metadata": {},
   "outputs": [
    {
     "name": "stdout",
     "output_type": "stream",
     "text": [
      "\n",
      " reshape into matrix form\n",
      "\n",
      "\n",
      "------------------\n",
      "\n",
      "[[1 2 3]\n",
      " [4 4 5]\n",
      " [6 7 7]]\n",
      "\n",
      " the matrix into its initial form\n",
      "\n",
      "\n",
      "------------------\n",
      "\n",
      "[1 2 3 4 4 5 6 7 7]\n"
     ]
    }
   ],
   "source": [
    "#reshape and back to origin\n",
    "a=num.array([1,2,3,4,4,5,6,7,7])\n",
    "print(\"\\n reshape into matrix form\\n\")\n",
    "print(\"\\n------------------\\n\")\n",
    "b=a.reshape(3,3)\n",
    "print(b)\n",
    "print(\"\\n the matrix into its initial form\\n\")\n",
    "print(\"\\n------------------\\n\")\n",
    "c=b.ravel()\n",
    "print(c)"
   ]
  },
  {
   "cell_type": "code",
   "execution_count": 50,
   "metadata": {},
   "outputs": [
    {
     "name": "stdout",
     "output_type": "stream",
     "text": [
      "\n",
      " matrix into svd \n",
      "\n",
      "\n",
      "------------------\n",
      "\n",
      "[[-0.25094612  0.93763527  0.24055384]\n",
      " [-0.5283942   0.07553223 -0.84563257]\n",
      " [-0.81106449 -0.33931547  0.47648652]]\n",
      "[14.26059272  1.15661527  0.54565233]\n",
      "[[-0.50705535 -0.58152706 -0.63617698]\n",
      " [-0.68832621 -0.17102385  0.70495239]\n",
      " [-0.51875033  0.79534717 -0.31356175]]\n",
      "\n",
      " svd form into initial \n",
      "\n",
      "\n",
      "------------------\n",
      "\n",
      "[[1. 2. 3.]\n",
      " [4. 4. 5.]\n",
      " [6. 7. 7.]]\n"
     ]
    }
   ],
   "source": [
    "#program to find svd\n",
    "from scipy.linalg import svd\n",
    "v,s,t=svd(b)\n",
    "print(\"\\n matrix into svd \\n\")\n",
    "print(\"\\n------------------\\n\")\n",
    "print(v)\n",
    "print(s)\n",
    "print(t)\n",
    "print(\"\\n svd form into initial \\n\")\n",
    "print(\"\\n------------------\\n\")\n",
    "r=(v@num.diag(s)@t)\n",
    "print(r)"
   ]
  },
  {
   "cell_type": "code",
   "execution_count": 53,
   "metadata": {},
   "outputs": [
    {
     "name": "stdout",
     "output_type": "stream",
     "text": [
      "\n",
      "matrix \n",
      "\n",
      "\n",
      "------------------\n",
      "\n",
      "[[1 2 3]\n",
      " [3 4 5]\n",
      " [5 6 7]]\n",
      "\n",
      " slicing with position 1st to last row and 2nd column to last\n",
      "\n",
      "\n",
      "------------------\n",
      "\n",
      "[[2 3]\n",
      " [4 5]\n",
      " [6 7]]\n"
     ]
    }
   ],
   "source": [
    "#matrix multiplication\n",
    "import numpy as num\n",
    "a=num.array(([1,2,3],[3,4,5],[5,6,7]))\n",
    "\n",
    "\n",
    "print(\"\\nmatrix \\n\")\n",
    "print(\"\\n------------------\\n\")\n",
    "print(a)\n",
    "print(\"\\n slicing with position 1st to last row and 2nd column to last\\n\")\n",
    "print(\"\\n------------------\\n\")\n",
    "print(a[0:,1:])"
   ]
  },
  {
   "cell_type": "code",
   "execution_count": null,
   "metadata": {},
   "outputs": [],
   "source": []
  }
 ],
 "metadata": {
  "kernelspec": {
   "display_name": "Python 3",
   "language": "python",
   "name": "python3"
  },
  "language_info": {
   "codemirror_mode": {
    "name": "ipython",
    "version": 3
   },
   "file_extension": ".py",
   "mimetype": "text/x-python",
   "name": "python",
   "nbconvert_exporter": "python",
   "pygments_lexer": "ipython3",
   "version": "3.7.11"
  }
 },
 "nbformat": 4,
 "nbformat_minor": 4
}
