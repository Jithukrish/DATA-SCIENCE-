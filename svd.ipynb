{
 "cells": [
  {
   "cell_type": "code",
   "execution_count": null,
   "metadata": {},
   "outputs": [],
   "source": [
    "#matrix multiplication\n",
    "import numpy as num\n",
    "\n",
    "b=num.array(([3,4,5],[4,3,2],[5,6,4]))\n",
    "\n",
    "print(\"\\nmatrix \\n\")\n",
    "print(\"\\n------------------\\n\")\n",
    "print(b)\n",
    "print(\"\\nmatrix1 * matrix 2\\n\")\n",
    "print(\"\\n------------------\\n\")\n",
    "c=num.dot(a,b)\n",
    "print(c)\n",
    "print(\" \\ntranspose\\n\")\n",
    "print(\"\\n------------------\\n\")\n",
    "d=num.transpose(c)\n",
    "print(d)"
   ]
  },
  {
   "cell_type": "code",
   "execution_count": null,
   "metadata": {},
   "outputs": [],
   "source": []
  }
 ],
 "metadata": {
  "kernelspec": {
   "display_name": "Python 3",
   "language": "python",
   "name": "python3"
  },
  "language_info": {
   "codemirror_mode": {
    "name": "ipython",
    "version": 3
   },
   "file_extension": ".py",
   "mimetype": "text/x-python",
   "name": "python",
   "nbconvert_exporter": "python",
   "pygments_lexer": "ipython3",
   "version": "3.7.11"
  }
 },
 "nbformat": 4,
 "nbformat_minor": 4
}
