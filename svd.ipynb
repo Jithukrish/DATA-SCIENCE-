{
 "cells": [
  {
   "cell_type": "code",
   "execution_count": 2,
   "metadata": {},
   "outputs": [
    {
     "name": "stdout",
     "output_type": "stream",
     "text": [
      "\n",
      "matrix \n",
      "\n",
      "\n",
      "------------------\n",
      "\n",
      "[[3 4 5]\n",
      " [4 3 2]\n",
      " [5 6 4]]\n"
     ]
    }
   ],
   "source": [
    "#matrix multiplication\n",
    "import numpy as num\n",
    "\n",
    "b=num.array(([3,4,5],[4,3,2],[5,6,4]))\n",
    "\n",
    "print(\"\\nmatrix \\n\")\n",
    "print(\"\\n------------------\\n\")\n",
    "print(b)\n"
   ]
  },
  {
   "cell_type": "code",
   "execution_count": 3,
   "metadata": {},
   "outputs": [
    {
     "name": "stdout",
     "output_type": "stream",
     "text": [
      "\n",
      " matrix into svd \n",
      "\n",
      "\n",
      "------------------\n",
      "\n",
      "[[-0.55955562  0.776486   -0.2897706 ]\n",
      " [-0.42479589 -0.56891112 -0.70419357]\n",
      " [-0.71165017 -0.27094211  0.64818548]]\n",
      "[12.28204518  2.12179083  0.80583483]\n",
      "[[-0.56473504 -0.63364945 -0.5287369 ]\n",
      " [-0.61311277 -0.10672214  0.78275355]\n",
      " [-0.55241928  0.7662237  -0.32822884]]\n",
      "\n",
      " svd form into initial \n",
      "\n",
      "\n",
      "------------------\n",
      "\n",
      "[[3. 4. 5.]\n",
      " [4. 3. 2.]\n",
      " [5. 6. 4.]]\n"
     ]
    }
   ],
   "source": [
    "#program to find svd\n",
    "from scipy.linalg import svd\n",
    "v,s,t=svd(b)\n",
    "print(\"\\n matrix into svd \\n\")\n",
    "print(\"\\n------------------\\n\")\n",
    "print(v)\n",
    "print(s)\n",
    "print(t)\n",
    "print(\"\\n svd form into initial \\n\")\n",
    "print(\"\\n------------------\\n\")\n",
    "r=(v@num.diag(s)@t)\n",
    "print(r)"
   ]
  },
  {
   "cell_type": "code",
   "execution_count": null,
   "metadata": {},
   "outputs": [],
   "source": []
  }
 ],
 "metadata": {
  "kernelspec": {
   "display_name": "Python 3",
   "language": "python",
   "name": "python3"
  },
  "language_info": {
   "codemirror_mode": {
    "name": "ipython",
    "version": 3
   },
   "file_extension": ".py",
   "mimetype": "text/x-python",
   "name": "python",
   "nbconvert_exporter": "python",
   "pygments_lexer": "ipython3",
   "version": "3.7.11"
  }
 },
 "nbformat": 4,
 "nbformat_minor": 4
}
